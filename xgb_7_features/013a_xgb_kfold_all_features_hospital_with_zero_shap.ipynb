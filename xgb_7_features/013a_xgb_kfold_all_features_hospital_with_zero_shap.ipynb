{
 "cells": [
  {
   "attachments": {},
   "cell_type": "markdown",
   "metadata": {},
   "source": [
    "# Using SHAP values, identify a hospital that has a neutral contribution to the patient outcome\n",
    "Use the model trained in notebook 010 (a multiclass classification model to give the probability that each patient is in each discharge disability class).\\\n",
    "Use the SHAP values as calculated from that model in notebook 011.\n",
    "\n",
    "### Plain English summary\n",
    "\n",
    "Future notebooks use a neutral hospital. Use this notebook to identify which hosptial has the most zero SHAP value for those patients that attend the hospital.\n",
    "\n",
    "### Model and data\n",
    "Model: XGBoost classifier (multiclass classification) [from notebook 010]\\\n",
    "Target feature: Discharge disability\\\n",
    "Input features: All the relevant features in SSNAP\\\n",
    "Kfold split: 5 kfold split\\\n",
    "[SHAP values from notebook 011]\n",
    "\n",
    "### Aims\n",
    "Identify a hospital that has a neutral contribution to the patient outcome\n",
    "\n",
    "### Observations\n",
    "No hospital has a zero SHAP for each of the mRS classes.\\\n",
    "Calculating the maximum of the absolute mean shap for each hospital - take the hospital with the minimum result (this is 0.136118 for Royal Lancaster Infirmary).\\\n",
    "Royal Lancaster Infirmary has the most consistent values close to zero.\n",
    "\n",
    "#### Further work\n",
    "\n",
    "\n",
    "#### Resources\n"
   ]
  },
  {
   "attachments": {},
   "cell_type": "markdown",
   "metadata": {},
   "source": [
    "## Import libraries"
   ]
  },
  {
   "cell_type": "code",
   "execution_count": 8,
   "metadata": {},
   "outputs": [],
   "source": [
    "# Turn warnings off to keep notebook tidy\n",
    "import warnings\n",
    "warnings.filterwarnings(\"ignore\")\n",
    "\n",
    "import os\n",
    "import matplotlib.pyplot as plt\n",
    "import numpy as np\n",
    "import pandas as pd\n",
    "\n",
    "from sklearn.metrics import auc\n",
    "\n",
    "from dataclasses import dataclass\n",
    "\n",
    "from sklearn.metrics import roc_auc_score\n",
    "\n",
    "import pickle\n",
    "import shap\n",
    "\n",
    "from os.path import exists\n",
    "\n",
    "import math\n",
    "\n",
    "import time\n",
    "import datetime"
   ]
  },
  {
   "attachments": {},
   "cell_type": "markdown",
   "metadata": {},
   "source": [
    "Report the time duration to run notebook"
   ]
  },
  {
   "cell_type": "code",
   "execution_count": 9,
   "metadata": {},
   "outputs": [],
   "source": [
    "start_time = time.time()"
   ]
  },
  {
   "cell_type": "markdown",
   "metadata": {},
   "source": [
    "Choose number of kfolds (either =1 for the first kfold, or =5 for the full 5 kfold split)"
   ]
  },
  {
   "cell_type": "code",
   "execution_count": 10,
   "metadata": {},
   "outputs": [],
   "source": [
    "n_kfold = 5"
   ]
  },
  {
   "attachments": {},
   "cell_type": "markdown",
   "metadata": {},
   "source": [
    "## Set up paths and filenames\n",
    "\n",
    "Use os.path.join() to create filenames. So define folders without trailing forward slash, and include all characters in file names."
   ]
  },
  {
   "cell_type": "code",
   "execution_count": 11,
   "metadata": {},
   "outputs": [],
   "source": [
    "@dataclass(frozen=True)\n",
    "class Paths:\n",
    "    '''Singleton object for storing paths to data and database.'''\n",
    "    image_save_path: str = './saved_images'\n",
    "    model_save_path: str = './saved_models'\n",
    "    data_save_path: str = './saved_data'\n",
    "    data_read_path: str = '../data_processing/output/kfold_5fold'\n",
    "    model_text: str = f'xgb_all_features_{n_kfold}fold'\n",
    "    notebook: str = '013a_'\n",
    "\n",
    "paths = Paths()"
   ]
  },
  {
   "cell_type": "markdown",
   "metadata": {},
   "source": [
    "Create output folders if needed"
   ]
  },
  {
   "cell_type": "code",
   "execution_count": 12,
   "metadata": {},
   "outputs": [],
   "source": [
    "path = paths.image_save_path\n",
    "if not os.path.exists(path):\n",
    "    os.makedirs(path)\n",
    "        \n",
    "path = paths.model_save_path\n",
    "if not os.path.exists(path):\n",
    "    os.makedirs(path)\n",
    "\n",
    "path = paths.data_save_path\n",
    "if not os.path.exists(path):\n",
    "    os.makedirs(path)"
   ]
  },
  {
   "cell_type": "markdown",
   "metadata": {},
   "source": [
    "Define variables"
   ]
  },
  {
   "cell_type": "code",
   "execution_count": 13,
   "metadata": {},
   "outputs": [],
   "source": [
    "n_classes = 7"
   ]
  },
  {
   "cell_type": "markdown",
   "metadata": {},
   "source": [
    "Load results (from notebook 013) to identify which hospitals have the most zero SHAP value for all of the output classes. \n",
    "\n",
    "This information is used in other notebooks."
   ]
  },
  {
   "cell_type": "code",
   "execution_count": 14,
   "metadata": {},
   "outputs": [],
   "source": [
    "# Initalise list. Store a list for each class of the hospitals that have a zero\n",
    "# mean and std SHAP\n",
    "list_hospital_zero_mean_std = []\n",
    "\n",
    "for c in range(n_classes):\n",
    "\n",
    "    filename = os.path.join(paths.data_save_path, ('013_' + \n",
    "                            paths.model_text + \n",
    "                            f'_meanabs_std_shap_per_hospital_for_mRS{c}'\n",
    "                            f'.csv'))\n",
    "    \n",
    "    hospital_data = pd.read_csv(filename)\n",
    "\n",
    "    filtered_values = np.where((hospital_data[\"mean_abs_shap\"]==0) & \n",
    "                               (hospital_data[\"std_shap\"]==0))\n",
    "    list_hospital_zero_mean_std.append(\n",
    "            list(hospital_data[\"stroke_team\"].loc[filtered_values].values))"
   ]
  },
  {
   "cell_type": "markdown",
   "metadata": {},
   "source": [
    "Return the number of times each hospital has zero SHAP mean and std deviation for the classes, for the first kfold"
   ]
  },
  {
   "cell_type": "code",
   "execution_count": 15,
   "metadata": {},
   "outputs": [
    {
     "data": {
      "text/plain": [
       "[(\"Queen's Medical Centre - Nottingham\", 3),\n",
       " ('Furness General Hospital', 2),\n",
       " ('Norfolk and Norwich University Hospital', 2),\n",
       " (\"St Mary's Hospital Newport\", 2),\n",
       " ('St Richards Hospital', 2),\n",
       " ('University Hospitals Dorset Stroke Service', 2),\n",
       " ('Bronglais Hospital', 1),\n",
       " ('Countess of Chester Hospital', 1),\n",
       " ('Hereford County Hospital', 1),\n",
       " ('Prince Charles Hospital', 1),\n",
       " ('Weston General Hospital', 1),\n",
       " ('Bradford and Airedale SU', 1),\n",
       " ('Broomfield Hospital', 1),\n",
       " ('James Paget Hospital', 1),\n",
       " ('Royal United Hospital Bath', 1),\n",
       " ('University Hospitals Bristol Inpatient Team', 1),\n",
       " ('Luton and Dunstable Hospital', 1),\n",
       " ('Royal Lancaster Infirmary', 1),\n",
       " ('Southend Hospital', 1),\n",
       " ('Doncaster Royal Infirmary', 1)]"
      ]
     },
     "execution_count": 15,
     "metadata": {},
     "output_type": "execute_result"
    }
   ],
   "source": [
    "from collections import Counter\n",
    "flatten = [item for row in list_hospital_zero_mean_std for item in row]\n",
    "Counter(flatten).most_common(20)"
   ]
  },
  {
   "cell_type": "markdown",
   "metadata": {},
   "source": [
    "No hospital has a zero SHAP for all classes. \n",
    "\n",
    "Instead, for each hospital, take the maximum of the mean of the absolute SHAPS, from the 6 target classes.\n",
    "\n",
    "Then return the hospitals ranked with the smallest maximum mean of the absolute SHAP values (across the classes).\n",
    "\n",
    "Select the hospital that has the smallest value."
   ]
  },
  {
   "cell_type": "code",
   "execution_count": 17,
   "metadata": {},
   "outputs": [
    {
     "data": {
      "text/html": [
       "<div>\n",
       "<style scoped>\n",
       "    .dataframe tbody tr th:only-of-type {\n",
       "        vertical-align: middle;\n",
       "    }\n",
       "\n",
       "    .dataframe tbody tr th {\n",
       "        vertical-align: top;\n",
       "    }\n",
       "\n",
       "    .dataframe thead th {\n",
       "        text-align: right;\n",
       "    }\n",
       "</style>\n",
       "<table border=\"1\" class=\"dataframe\">\n",
       "  <thead>\n",
       "    <tr style=\"text-align: right;\">\n",
       "      <th></th>\n",
       "      <th>max_of_the_absolute_mean_shap</th>\n",
       "    </tr>\n",
       "  </thead>\n",
       "  <tbody>\n",
       "    <tr>\n",
       "      <th>Royal Lancaster Infirmary</th>\n",
       "      <td>0.136118</td>\n",
       "    </tr>\n",
       "    <tr>\n",
       "      <th>St Richards Hospital</th>\n",
       "      <td>0.159492</td>\n",
       "    </tr>\n",
       "    <tr>\n",
       "      <th>Stepping Hill Hospital</th>\n",
       "      <td>0.160162</td>\n",
       "    </tr>\n",
       "    <tr>\n",
       "      <th>Wycombe General Hospital</th>\n",
       "      <td>0.197811</td>\n",
       "    </tr>\n",
       "    <tr>\n",
       "      <th>Norfolk and Norwich University Hospital</th>\n",
       "      <td>0.197916</td>\n",
       "    </tr>\n",
       "    <tr>\n",
       "      <th>...</th>\n",
       "      <td>...</td>\n",
       "    </tr>\n",
       "    <tr>\n",
       "      <th>Royal Stoke University Hospital</th>\n",
       "      <td>1.441757</td>\n",
       "    </tr>\n",
       "    <tr>\n",
       "      <th>Royal London Hospital HASU</th>\n",
       "      <td>1.527460</td>\n",
       "    </tr>\n",
       "    <tr>\n",
       "      <th>Sandwell District Hospital</th>\n",
       "      <td>1.566673</td>\n",
       "    </tr>\n",
       "    <tr>\n",
       "      <th>Princess Royal University Hospital HASU</th>\n",
       "      <td>1.728447</td>\n",
       "    </tr>\n",
       "    <tr>\n",
       "      <th>Prince Charles Hospital</th>\n",
       "      <td>1.950142</td>\n",
       "    </tr>\n",
       "  </tbody>\n",
       "</table>\n",
       "<p>118 rows × 1 columns</p>\n",
       "</div>"
      ],
      "text/plain": [
       "                                         max_of_the_absolute_mean_shap\n",
       "Royal Lancaster Infirmary                                     0.136118\n",
       "St Richards Hospital                                          0.159492\n",
       "Stepping Hill Hospital                                        0.160162\n",
       "Wycombe General Hospital                                      0.197811\n",
       "Norfolk and Norwich University Hospital                       0.197916\n",
       "...                                                                ...\n",
       "Royal Stoke University Hospital                               1.441757\n",
       "Royal London Hospital HASU                                    1.527460\n",
       "Sandwell District Hospital                                    1.566673\n",
       "Princess Royal University Hospital HASU                       1.728447\n",
       "Prince Charles Hospital                                       1.950142\n",
       "\n",
       "[118 rows x 1 columns]"
      ]
     },
     "execution_count": 17,
     "metadata": {},
     "output_type": "execute_result"
    }
   ],
   "source": [
    "# Initialise dataframes\n",
    "hospital_shap_mean_all_classes=pd.DataFrame()\n",
    "hospital_shap_std_all_classes=pd.DataFrame()\n",
    "\n",
    "# For each class\n",
    "for c in range(n_classes):\n",
    "    # Get hosptial SHAP values (mean absolute and standard deviation for all\n",
    "    # patients that attend the hospital)\n",
    "    filename = os.path.join(paths.data_save_path, ('013_' + \n",
    "                            paths.model_text + \n",
    "                            f'_meanabs_std_shap_per_hospital_for_mRS{c}'\n",
    "                            f'.csv'))\n",
    "    \n",
    "    hospital_data = pd.read_csv(filename)\n",
    "\n",
    "    hospital_shap_mean_all_classes[f\"mean_abs_shap_class{c}\"] = (\n",
    "                                                hospital_data[\"mean_abs_shap\"])\n",
    "    hospital_shap_std_all_classes[f\"std_shap_class{c}\"] = (\n",
    "                                                hospital_data[\"std_shap\"])\n",
    "hospital_shap_mean_all_classes.set_index(hospital_data[\"stroke_team\"].values, \n",
    "                                         inplace=True)\n",
    "hospital_shap_std_all_classes.set_index(hospital_data[\"stroke_team\"].values, \n",
    "                                        inplace=True)\n",
    "\n",
    "df_results = pd.DataFrame()\n",
    "df_results[\"max_of_the_absolute_mean_shap\"] = (\n",
    "                        np.absolute(hospital_shap_mean_all_classes).max(axis=1))\n",
    "df_results.set_index(hospital_shap_std_all_classes.index, inplace=True)\n",
    "df_results.sort_values(by=[\"max_of_the_absolute_mean_shap\"], key=abs, \n",
    "                       inplace=True)\n",
    "df_results"
   ]
  },
  {
   "cell_type": "markdown",
   "metadata": {},
   "source": [
    "View the individual SHAP values across the seven target classes for this chosen hospital"
   ]
  },
  {
   "cell_type": "code",
   "execution_count": 18,
   "metadata": {},
   "outputs": [
    {
     "data": {
      "text/plain": [
       "mean_abs_shap_class0    0.031250\n",
       "mean_abs_shap_class1    0.136118\n",
       "mean_abs_shap_class2    0.047157\n",
       "mean_abs_shap_class3    0.000000\n",
       "mean_abs_shap_class4    0.035217\n",
       "mean_abs_shap_class5    0.067202\n",
       "mean_abs_shap_class6    0.016733\n",
       "Name: Royal Lancaster Infirmary, dtype: float64"
      ]
     },
     "execution_count": 18,
     "metadata": {},
     "output_type": "execute_result"
    }
   ],
   "source": [
    "hospital_shap_mean_all_classes.loc[\"Royal Lancaster Infirmary\"]"
   ]
  },
  {
   "cell_type": "markdown",
   "metadata": {},
   "source": [
    "Duration to run notebook"
   ]
  },
  {
   "cell_type": "code",
   "execution_count": 19,
   "metadata": {},
   "outputs": [
    {
     "data": {
      "text/plain": [
       "'0:00:28.748199'"
      ]
     },
     "execution_count": 19,
     "metadata": {},
     "output_type": "execute_result"
    }
   ],
   "source": [
    "str(datetime.timedelta(seconds=(time.time()-start_time)))"
   ]
  }
 ],
 "metadata": {
  "kernelspec": {
   "display_name": "Python 3.10.11 ('sam10')",
   "language": "python",
   "name": "python3"
  },
  "language_info": {
   "codemirror_mode": {
    "name": "ipython",
    "version": 3
   },
   "file_extension": ".py",
   "mimetype": "text/x-python",
   "name": "python",
   "nbconvert_exporter": "python",
   "pygments_lexer": "ipython3",
   "version": "3.10.12"
  },
  "orig_nbformat": 4,
  "vscode": {
   "interpreter": {
    "hash": "f85b883bff9a8a9f39576b94acbdf6672b3dc17c35647e7395f81e785740a4b3"
   }
  }
 },
 "nbformat": 4,
 "nbformat_minor": 2
}
