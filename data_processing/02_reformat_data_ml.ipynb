{
 "cells": [
  {
   "attachments": {},
   "cell_type": "markdown",
   "metadata": {},
   "source": [
    "# Reformat data\n",
    "\n",
    "This notebook reformats the cleaned up SSNAP data for use with machine learning.\n",
    "\n",
    "Uses as input the output file from 01_clean_raw_data.ipynb ('clean_samuel_ssnap_extract_v2.csv') which is on github repository: https://github.com/samuel-book/samuel_2_data_prep/blob/main/01_clean_raw_data.ipynb \n",
    "\n",
    "(This notebook renamed from \"02_reformat_data_ml_230612.ipynb\" on branch kerry_01)\n",
    "\n",
    "Option to keep thrombectomy patients in (set \"include_thrombectomy_patients\")"
   ]
  },
  {
   "attachments": {},
   "cell_type": "markdown",
   "metadata": {},
   "source": [
    "## Import packages"
   ]
  },
  {
   "cell_type": "code",
   "execution_count": 1,
   "metadata": {},
   "outputs": [],
   "source": [
    "# Import packages\n",
    "import numpy as np\n",
    "import os\n",
    "import pandas as pd\n",
    "import random\n",
    "from os.path import exists\n",
    "import json\n",
    "\n",
    "from dataclasses import dataclass\n",
    "\n",
    "# Set the maximum number of columns to 100\n",
    "pd.set_option('display.max_columns', 100)\n",
    "pd.set_option('display.max_rows', 100)"
   ]
  },
  {
   "cell_type": "markdown",
   "metadata": {},
   "source": [
    "User determines if keep thrombectomy patients in the dataset"
   ]
  },
  {
   "cell_type": "code",
   "execution_count": 2,
   "metadata": {},
   "outputs": [],
   "source": [
    "remove_thrombectomy_patients = False"
   ]
  },
  {
   "attachments": {},
   "cell_type": "markdown",
   "metadata": {},
   "source": [
    "## Set up paths and filenames\n",
    "\n",
    "Use os.path.join() to create filenames. So define folders without trailing forward slash, and include all characters in file names."
   ]
  },
  {
   "cell_type": "code",
   "execution_count": 3,
   "metadata": {},
   "outputs": [],
   "source": [
    "@dataclass(frozen=True)\n",
    "class Paths:\n",
    "    '''Singleton object for storing paths to data and database.'''\n",
    "\n",
    "    data_read_path: str = './output'\n",
    "    data_read_filename: str = 'clean_samuel_ssnap_extract_v2.csv'\n",
    "    data_save_path: str = './output'\n",
    "    data_save_filename: str = 'reformatted_data_ml.csv'\n",
    "    teamcode_save_filename: str = 'team_code.csv'\n",
    "    notebook: str = '02_'\n",
    "\n",
    "paths = Paths()"
   ]
  },
  {
   "attachments": {},
   "cell_type": "markdown",
   "metadata": {},
   "source": [
    "## Define thresholds"
   ]
  },
  {
   "cell_type": "code",
   "execution_count": 4,
   "metadata": {},
   "outputs": [],
   "source": [
    "min_hospital_thrombolysis_threshold = 10\n",
    "min_hospital_admission_threshold = 250"
   ]
  },
  {
   "cell_type": "markdown",
   "metadata": {},
   "source": [
    "## Define default values"
   ]
  },
  {
   "cell_type": "code",
   "execution_count": 5,
   "metadata": {},
   "outputs": [],
   "source": [
    "set_duration_not_get_thrombolysis = -100"
   ]
  },
  {
   "attachments": {},
   "cell_type": "markdown",
   "metadata": {},
   "source": [
    "## Load data"
   ]
  },
  {
   "cell_type": "code",
   "execution_count": 6,
   "metadata": {},
   "outputs": [
    {
     "data": {
      "text/plain": [
       "(358993, 71)"
      ]
     },
     "execution_count": 6,
     "metadata": {},
     "output_type": "execute_result"
    }
   ],
   "source": [
    "filename = os.path.join(paths.data_read_path, paths.data_read_filename)\n",
    "all_data = pd.read_csv(filename)\n",
    "all_data.shape"
   ]
  },
  {
   "attachments": {},
   "cell_type": "markdown",
   "metadata": {},
   "source": [
    "## Filter patients \n",
    "### Filter patients on patient characteristic\n",
    "\n",
    "Filter based on category, or threshold."
   ]
  },
  {
   "cell_type": "code",
   "execution_count": 7,
   "metadata": {},
   "outputs": [],
   "source": [
    "# Limit to years 2016+\n",
    "mask = (all_data['year'] >= 2016)\n",
    "data = all_data[mask]\n",
    "\n",
    "# Limit to infarction stroke\n",
    "mask = (data['infarction'] == 1)\n",
    "data = data[mask]\n",
    "\n",
    "# Limit to arrivals by ambulace\n",
    "mask = (data['arrive_by_ambulance'] == 1)\n",
    "data = data[mask]\n",
    "\n",
    "if remove_thrombectomy_patients:\n",
    "    # Remove patients who have received thrombectomy\n",
    "    mask = (data['thrombectomy'] == 0)\n",
    "    data = data[mask]\n",
    "\n",
    "# Remove patients with no recorded prior disability\n",
    "mask = data['prior_disability'] >= 0\n",
    "data = data[mask]\n",
    "\n",
    "# Remove records with no recorded discharge_disability\n",
    "mask = data['discharge_disability'] >= 0\n",
    "data = data[mask]\n",
    "\n",
    "# Remove records with negative onset_to_arrival_time\n",
    "mask = data['onset_to_arrival_time'] <= 0\n",
    "mask =  mask == False\n",
    "data = data[mask]\n",
    "\n",
    "# Remove patients with 'onset_known' = 0\n",
    "# SSNAP data assumes patients with S1OnsetTimeType=\"NK\" had their stroke onset \n",
    "# at midnight (so their OnsettoArrivalMinutes are calculated from midnight). \n",
    "# Remove these patients. This information is in feature 'onset_known' as 0 (a \n",
    "# value of 1 represents precise and best estimate) (see 01_clean_raw_data.ipynb)\n",
    "mask = data['onset_known'] == 1\n",
    "data = data[mask]"
   ]
  },
  {
   "cell_type": "markdown",
   "metadata": {},
   "source": [
    "Remove leading and trailing whitespace in team names"
   ]
  },
  {
   "cell_type": "code",
   "execution_count": 8,
   "metadata": {},
   "outputs": [],
   "source": [
    "all_data[\"stroke_team\"] = (all_data[\"stroke_team\"].apply(lambda x: x.strip()))"
   ]
  },
  {
   "attachments": {},
   "cell_type": "markdown",
   "metadata": {},
   "source": [
    "### Filter patients on attended hospital characteristic\n",
    "\n",
    "Include patients that attend a hospital with more than 250 admissions, and give atleast 10 thrombolysis in the 6 years included in the dataset (2016 - 2021 incusive)\n",
    "\n",
    "Define function to remove patients based on hospital values"
   ]
  },
  {
   "cell_type": "code",
   "execution_count": 9,
   "metadata": {},
   "outputs": [],
   "source": [
    "def filter_stroke_team(data, min_threshold, stroke_team_values):\n",
    "    \"\"\"\n",
    "    Returns the dataframe with only the patients that attend a stroke team that \n",
    "    pass a minimum threshold.\n",
    "    Currently used to limit patients to those that attend a hospital that has\n",
    "    at least 250 admissions, and gives thrombolysis at least 10 times.\n",
    "\n",
    "    data [dataframe]: The full dataset\n",
    "    min_threshold [float]: threshold above which stroke team needs to be to stay \n",
    "                    in data\n",
    "    stroke_team_values [series]: contains value per stroke team, to be compared \n",
    "                    against the minimum threshold (index: stroke_team)\n",
    "    \"\"\"\n",
    "\n",
    "    mask = stroke_team_values >= min_threshold\n",
    "    stroke_team_keep = list(stroke_team_values[mask].index)\n",
    "    data = data[data['stroke_team'].isin(stroke_team_keep)]\n",
    "\n",
    "    return(data)"
   ]
  },
  {
   "cell_type": "markdown",
   "metadata": {},
   "source": [
    "1. Include patients that attend a hospital with more than 250 admissions in the 6 years included in the dataset (2016 - 2021 incusive)"
   ]
  },
  {
   "cell_type": "code",
   "execution_count": 10,
   "metadata": {},
   "outputs": [
    {
     "data": {
      "text/plain": [
       "(172001, 71)"
      ]
     },
     "execution_count": 10,
     "metadata": {},
     "output_type": "execute_result"
    }
   ],
   "source": [
    "stroke_team_admissions = data.groupby(['stroke_team'])['stroke_team'].count()\n",
    "data = filter_stroke_team(data, min_hospital_admission_threshold, \n",
    "                          stroke_team_admissions)\n",
    "data.shape"
   ]
  },
  {
   "cell_type": "markdown",
   "metadata": {},
   "source": [
    "2. Include patients that attend a hospital that gives atleast 10 thrombolysis in the 6 years included in the dataset (2016 - 2021 incusive)"
   ]
  },
  {
   "cell_type": "code",
   "execution_count": 11,
   "metadata": {},
   "outputs": [
    {
     "data": {
      "text/plain": [
       "(172001, 71)"
      ]
     },
     "execution_count": 11,
     "metadata": {},
     "output_type": "execute_result"
    }
   ],
   "source": [
    "stroke_team_thrombolysis = data.groupby(['stroke_team'])['thrombolysis'].sum()\n",
    "data = filter_stroke_team(data, min_hospital_thrombolysis_threshold, \n",
    "                          stroke_team_thrombolysis)\n",
    "data.shape"
   ]
  },
  {
   "cell_type": "markdown",
   "metadata": {},
   "source": [
    "## Edit feature values"
   ]
  },
  {
   "attachments": {},
   "cell_type": "markdown",
   "metadata": {},
   "source": [
    "1. Set scan to thrombolysis time to -100 for those patients that do not recieve thrombolysis. Doing so, we will be able to remove thromboylsis as a feature as the information will be captured in the duration feature (can not keep both in the model, as that will introduce feature dependency)"
   ]
  },
  {
   "cell_type": "code",
   "execution_count": 12,
   "metadata": {},
   "outputs": [],
   "source": [
    "# give -100 for patients not receive thrombolysis\n",
    "mask = data['thrombolysis'] == 0\n",
    "data.loc[mask, 'scan_to_thrombolysis_time'] = set_duration_not_get_thrombolysis"
   ]
  },
  {
   "cell_type": "markdown",
   "metadata": {},
   "source": [
    "## Add new features"
   ]
  },
  {
   "cell_type": "markdown",
   "metadata": {},
   "source": [
    "1. New feature \"onset_to_thrombolysis_time\"\n",
    "\n",
    "Create new feature \"onset_to_thrombolysis_time\", the sum of the three separate duration features (onset to arrival, arrival to scan, scan to thrombolysis).\n",
    "\n",
    "Set as -100 for the patients that do not receive thrombolysis"
   ]
  },
  {
   "cell_type": "code",
   "execution_count": 13,
   "metadata": {},
   "outputs": [],
   "source": [
    "def calculate_onset_to_thrombolysis(row):\n",
    "    # Set default value of onset to thrombolysis of -100 (no thrombolysis given)\n",
    "    onset_to_thrombolysis = -100\n",
    "    # Set value if thrombolysis given\n",
    "    if  row['scan_to_thrombolysis_time'] != -100:\n",
    "        onset_to_thrombolysis = (row['onset_to_arrival_time'] + \n",
    "        row['arrival_to_scan_time'] + row['scan_to_thrombolysis_time'])\n",
    "    return onset_to_thrombolysis"
   ]
  },
  {
   "cell_type": "code",
   "execution_count": 14,
   "metadata": {},
   "outputs": [],
   "source": [
    "# Calculate onset to thgrombolysis (but set to -100 if no thrombolysis given)\n",
    "data['onset_to_thrombolysis_time'] = (\n",
    "                        data.apply(calculate_onset_to_thrombolysis, axis=1))"
   ]
  },
  {
   "cell_type": "markdown",
   "metadata": {},
   "source": [
    "2. New feature: 'team_code'\n",
    "\n",
    "Create a new feature containing an anonymised stroke team code (also save the team name with code as a separate csv file). Replace the stroke team name with this code for use in onwards notebooks.\n",
    "\n",
    "Randomise the stroke teams, and create an anonymised code.\n",
    "\n",
    "Once csv file is created, do not recreate as this code list has been shared with others so that they can identify themselves in the web app.\n",
    "\n",
    "Web app: https://stroke-predictions.streamlit.app/"
   ]
  },
  {
   "cell_type": "code",
   "execution_count": 15,
   "metadata": {},
   "outputs": [],
   "source": [
    "filename = os.path.join(paths.data_save_path, \n",
    "                        (paths.notebook + paths.teamcode_save_filename))\n",
    "\n",
    "# Check if exists\n",
    "file_exists = exists(filename)\n",
    "\n",
    "# Only create team codes if file not exist\n",
    "if not file_exists:\n",
    "    # Get list of teams\n",
    "    teams = list(set(data['stroke_team']))\n",
    "\n",
    "    # Shuffle into random order\n",
    "    random.seed(42)\n",
    "    random.shuffle(teams)\n",
    "    \n",
    "    # Create dictionary\n",
    "    teams_code_dict = dict()\n",
    "    for i, j in enumerate(teams):\n",
    "        teams_code_dict[j] = i + 1\n",
    "\n",
    "    # Save teams ID to csv file\n",
    "    col_names = ['stroke_team', 'team_code']\n",
    "    teams_code_df = pd.DataFrame(\n",
    "        teams_code_dict.items(), columns=col_names)\n",
    "    teams_code_df.to_csv(filename,index=False)\n",
    "\n",
    "else:\n",
    "    # Use existing file to overwrite 'stroke_team' column\n",
    "    teams_code_df = pd.read_csv(filename)\n",
    "\n",
    "    # remove leading and trailing whitespace in team names\n",
    "    teams_code_df[\"stroke_team\"] = (\n",
    "                    teams_code_df[\"stroke_team\"].apply(lambda x: x.strip()))\n",
    "\n",
    "    # Create dictionary\n",
    "    teams_code_dict = dict()\n",
    "    for row in teams_code_df.iterrows():\n",
    "        teams_code_dict[row[1][\"stroke_team\"]] = row[1]['team_code']\n",
    "\n",
    "# Overwrite stroke_team names with codes\n",
    "data['stroke_team'] = data['stroke_team'].map(teams_code_dict)\n"
   ]
  },
  {
   "attachments": {},
   "cell_type": "markdown",
   "metadata": {},
   "source": [
    "## Removing features\n",
    "Set up a list of features to remove and remove at same time."
   ]
  },
  {
   "cell_type": "markdown",
   "metadata": {},
   "source": [
    "1. Remove 'onset\\_known', as all patients have same value (only kept those with a value of 1 as wanted to remove patients with an unknown onset time - used a default onset time of midnight for the duration calculations)."
   ]
  },
  {
   "cell_type": "code",
   "execution_count": 16,
   "metadata": {},
   "outputs": [],
   "source": [
    "remove_features = ['onset_known']"
   ]
  },
  {
   "attachments": {},
   "cell_type": "markdown",
   "metadata": {},
   "source": [
    "2. Remove anticolagulant types. "
   ]
  },
  {
   "cell_type": "code",
   "execution_count": 17,
   "metadata": {},
   "outputs": [],
   "source": [
    "remove_features.append('afib_vit_k_anticoagulant')\n",
    "remove_features.append('afib_doac_anticoagulant')\n",
    "remove_features.append('afib_heparin_anticoagulant')"
   ]
  },
  {
   "attachments": {},
   "cell_type": "markdown",
   "metadata": {},
   "source": [
    "3. Remove thrombolysis, and keep the pathway durations.\n",
    "\n",
    "A value in the scan\\_to\\_thrombolysis\\_time will indicate the patient had thrombolysis. Keeping both in will mean dependencies in the features (SHAP assumes all features are independent)."
   ]
  },
  {
   "cell_type": "code",
   "execution_count": 18,
   "metadata": {},
   "outputs": [],
   "source": [
    "remove_features.append('thrombolysis')"
   ]
  },
  {
   "attachments": {},
   "cell_type": "markdown",
   "metadata": {},
   "source": [
    "4. Remove features that contain information later in the pathway, or contain information in the target feature (discharge_disability)"
   ]
  },
  {
   "cell_type": "code",
   "execution_count": 19,
   "metadata": {},
   "outputs": [],
   "source": [
    "remove_features.append('discharge_destination')\n",
    "remove_features.append('death')\n",
    "remove_features.append('disability_6_month')"
   ]
  },
  {
   "attachments": {},
   "cell_type": "markdown",
   "metadata": {},
   "source": [
    "5. Remove features about ambulance times (not fully filled in)"
   ]
  },
  {
   "cell_type": "code",
   "execution_count": 20,
   "metadata": {},
   "outputs": [],
   "source": [
    "remove_features.append('call_to_ambulance_arrival_time')\n",
    "remove_features.append('ambulance_on_scene_time')\n",
    "remove_features.append('ambulance_travel_to_hospital_time')\n",
    "remove_features.append('ambulance_wait_time_at_hospital')\n"
   ]
  },
  {
   "attachments": {},
   "cell_type": "markdown",
   "metadata": {},
   "source": [
    "6. If remove_thrombectomy, then remove features about thrombectomy"
   ]
  },
  {
   "cell_type": "code",
   "execution_count": 21,
   "metadata": {},
   "outputs": [],
   "source": [
    "if remove_thrombectomy_patients:\n",
    "    remove_features.append('thrombectomy')\n",
    "    remove_features.append('arrival_to_thrombectomy_time')"
   ]
  },
  {
   "cell_type": "markdown",
   "metadata": {},
   "source": [
    "7. Remove any features (not yet identified to be removed) that have the same value for the whole dataset (those with 0 standard deviation)"
   ]
  },
  {
   "cell_type": "code",
   "execution_count": 22,
   "metadata": {},
   "outputs": [
    {
     "name": "stdout",
     "output_type": "stream",
     "text": [
      "Removing feature infarction as standard deviation = 0. All patients have value 1.0\n",
      "Removing feature arrive_by_ambulance as standard deviation = 0. All patients have value 1.0\n"
     ]
    }
   ],
   "source": [
    "for col in data.columns:\n",
    "    if (data[col].dtype != 'O'):\n",
    "        if (data[col].std()) == 0:\n",
    "            if col not in remove_features:\n",
    "                remove_features.append(col)\n",
    "                print(f\"Removing feature {col} as standard deviation = 0. All \"\n",
    "                      f\"patients have value {data[col].iloc[0]}\")"
   ]
  },
  {
   "attachments": {},
   "cell_type": "markdown",
   "metadata": {},
   "source": [
    "Remove the features from the dataset"
   ]
  },
  {
   "cell_type": "code",
   "execution_count": 23,
   "metadata": {},
   "outputs": [],
   "source": [
    "data = data.drop(remove_features, axis=1)"
   ]
  },
  {
   "attachments": {},
   "cell_type": "markdown",
   "metadata": {},
   "source": [
    "## Save reformatted data \n",
    "\n",
    "Ready for machine learning (to predict the disability at discharge)"
   ]
  },
  {
   "cell_type": "code",
   "execution_count": 24,
   "metadata": {},
   "outputs": [],
   "source": [
    "# Have different filename depending on if thrombectomy patients are included\n",
    "save_filename = paths.data_save_filename\n",
    "\n",
    "if not remove_thrombectomy_patients:\n",
    "    save_filename = save_filename.replace(\".csv\", \"_include_mt.csv\")\n",
    "\n",
    "filename = os.path.join(paths.data_save_path, \n",
    "                        (paths.notebook + save_filename))\n",
    "\n",
    "data.to_csv(filename, index=False)"
   ]
  }
 ],
 "metadata": {
  "kernelspec": {
   "display_name": "Python 3.10.11 ('sam10')",
   "language": "python",
   "name": "python3"
  },
  "language_info": {
   "codemirror_mode": {
    "name": "ipython",
    "version": 3
   },
   "file_extension": ".py",
   "mimetype": "text/x-python",
   "name": "python",
   "nbconvert_exporter": "python",
   "pygments_lexer": "ipython3",
   "version": "3.10.12"
  },
  "vscode": {
   "interpreter": {
    "hash": "f85b883bff9a8a9f39576b94acbdf6672b3dc17c35647e7395f81e785740a4b3"
   }
  }
 },
 "nbformat": 4,
 "nbformat_minor": 4
}
